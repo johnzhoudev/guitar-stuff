{
  "nbformat": 4,
  "nbformat_minor": 0,
  "metadata": {
    "colab": {
      "provenance": [],
      "authorship_tag": "ABX9TyPLN+xzfYZmcG9wbg83DdRY",
      "include_colab_link": true
    },
    "kernelspec": {
      "name": "python3",
      "display_name": "Python 3"
    },
    "language_info": {
      "name": "python"
    }
  },
  "cells": [
    {
      "cell_type": "markdown",
      "metadata": {
        "id": "view-in-github",
        "colab_type": "text"
      },
      "source": [
        "<a href=\"https://colab.research.google.com/github/johnzhoudev/guitar-stuff/blob/main/test.ipynb\" target=\"_parent\"><img src=\"https://colab.research.google.com/assets/colab-badge.svg\" alt=\"Open In Colab\"/></a>"
      ]
    },
    {
      "cell_type": "code",
      "execution_count": null,
      "metadata": {
        "id": "fVOs5ySTuIWO"
      },
      "outputs": [],
      "source": [
        "import torch\n",
        "import os\n",
        "# import json\n",
        "import pandas as pd\n",
        "from pprint import pprint"
      ]
    },
    {
      "cell_type": "code",
      "source": [
        "if torch.cuda.is_available():\n",
        "  device = torch.device(\"cuda\")\n",
        "  print(f\"Running on device {device} {torch.cuda.get_device_properties(0)}\")\n",
        "else:\n",
        "  print(\"CUDA not available\")\n",
        "  device = torch.device(\"cpu\")\n",
        "\n",
        "PATH = \"/Users/John/dev/guitar-stuff/data/annotation/\"\n",
        "\n",
        "def load_file_annotation(file_name):\n",
        "  data_dict = json.load(open(f\"{PATH}{file_name}\"))\n",
        "  return pd.DataFrame.from_dict(data_dict[\"annotations\"])\n",
        "\n",
        "data = load_file_annotation(\"02_SS2-88-F_solo.jams\")\n",
        "\n",
        "## Load 1 file\n",
        "\n",
        "print(os.getcwd())"
      ],
      "metadata": {
        "colab": {
          "base_uri": "https://localhost:8080/"
        },
        "id": "kA2ubFDNLm-8",
        "outputId": "9a1a04b3-c24a-4891-9b47-79b36fc5dad1"
      },
      "execution_count": null,
      "outputs": [
        {
          "output_type": "stream",
          "name": "stdout",
          "text": [
            "Running on device cuda _CudaDeviceProperties(name='NVIDIA GeForce GTX 1650 SUPER', major=7, minor=5, total_memory=4095MB, multi_processor_count=20)\n",
            "C:\\Users\\John\n"
          ]
        }
      ]
    },
    {
      "cell_type": "code",
      "source": [
        "data.info()\n",
        "data.describe()\n",
        "data.head()\n",
        "\n",
        "data.iloc[3]['annotation_metadata']\n",
        "data.iloc[3]['namespace']"
      ],
      "metadata": {
        "colab": {
          "base_uri": "https://localhost:8080/"
        },
        "id": "Pk93T0YzQ3U4",
        "outputId": "0f591c5c-d1b4-42bf-94d6-1ac4a316e781"
      },
      "execution_count": null,
      "outputs": [
        {
          "output_type": "stream",
          "name": "stdout",
          "text": [
            "<class 'pandas.core.frame.DataFrame'>\n",
            "RangeIndex: 17 entries, 0 to 16\n",
            "Data columns (total 6 columns):\n",
            " #   Column               Non-Null Count  Dtype  \n",
            "---  ------               --------------  -----  \n",
            " 0   annotation_metadata  17 non-null     object \n",
            " 1   namespace            17 non-null     object \n",
            " 2   data                 17 non-null     object \n",
            " 3   sandbox              17 non-null     object \n",
            " 4   time                 17 non-null     float64\n",
            " 5   duration             16 non-null     float64\n",
            "dtypes: float64(2), object(4)\n",
            "memory usage: 944.0+ bytes\n"
          ]
        },
        {
          "output_type": "execute_result",
          "data": {
            "text/plain": [
              "'note_midi'"
            ]
          },
          "metadata": {},
          "execution_count": 45
        }
      ]
    },
    {
      "cell_type": "code",
      "source": [
        "\n",
        "def load_audio(file_name):\n"
      ],
      "metadata": {
        "id": "UsxpxTLkdb5B"
      },
      "execution_count": null,
      "outputs": []
    }
  ]
}